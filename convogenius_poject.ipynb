{
  "nbformat": 4,
  "nbformat_minor": 0,
  "metadata": {
    "colab": {
      "provenance": []
    },
    "kernelspec": {
      "name": "python3",
      "display_name": "Python 3"
    },
    "language_info": {
      "name": "python"
    }
  },
  "cells": [
    {
      "cell_type": "code",
      "execution_count": null,
      "metadata": {
        "colab": {
          "base_uri": "https://localhost:8080/"
        },
        "id": "gyowOiH5RXjM",
        "outputId": "756fb9e0-1120-4345-c380-f6db595a815c"
      },
      "outputs": [
        {
          "output_type": "stream",
          "name": "stdout",
          "text": [
            "Requirement already satisfied: keras_nlp in /usr/local/lib/python3.10/dist-packages (0.6.1)\n",
            "Requirement already satisfied: keras-core in /usr/local/lib/python3.10/dist-packages (from keras_nlp) (0.1.4)\n",
            "Requirement already satisfied: absl-py in /usr/local/lib/python3.10/dist-packages (from keras_nlp) (1.4.0)\n",
            "Requirement already satisfied: numpy in /usr/local/lib/python3.10/dist-packages (from keras_nlp) (1.23.5)\n",
            "Requirement already satisfied: packaging in /usr/local/lib/python3.10/dist-packages (from keras_nlp) (23.1)\n",
            "Requirement already satisfied: regex in /usr/local/lib/python3.10/dist-packages (from keras_nlp) (2023.6.3)\n",
            "Requirement already satisfied: rich in /usr/local/lib/python3.10/dist-packages (from keras_nlp) (13.5.2)\n",
            "Requirement already satisfied: tensorflow-text in /usr/local/lib/python3.10/dist-packages (from keras_nlp) (2.13.0)\n",
            "Requirement already satisfied: namex in /usr/local/lib/python3.10/dist-packages (from keras-core->keras_nlp) (0.0.7)\n",
            "Requirement already satisfied: h5py in /usr/local/lib/python3.10/dist-packages (from keras-core->keras_nlp) (3.9.0)\n",
            "Requirement already satisfied: dm-tree in /usr/local/lib/python3.10/dist-packages (from keras-core->keras_nlp) (0.1.8)\n",
            "Requirement already satisfied: markdown-it-py>=2.2.0 in /usr/local/lib/python3.10/dist-packages (from rich->keras_nlp) (3.0.0)\n",
            "Requirement already satisfied: pygments<3.0.0,>=2.13.0 in /usr/local/lib/python3.10/dist-packages (from rich->keras_nlp) (2.16.1)\n",
            "Requirement already satisfied: tensorflow-hub>=0.8.0 in /usr/local/lib/python3.10/dist-packages (from tensorflow-text->keras_nlp) (0.14.0)\n",
            "Requirement already satisfied: tensorflow<2.14,>=2.13.0 in /usr/local/lib/python3.10/dist-packages (from tensorflow-text->keras_nlp) (2.13.0)\n",
            "Requirement already satisfied: mdurl~=0.1 in /usr/local/lib/python3.10/dist-packages (from markdown-it-py>=2.2.0->rich->keras_nlp) (0.1.2)\n",
            "Requirement already satisfied: astunparse>=1.6.0 in /usr/local/lib/python3.10/dist-packages (from tensorflow<2.14,>=2.13.0->tensorflow-text->keras_nlp) (1.6.3)\n",
            "Requirement already satisfied: flatbuffers>=23.1.21 in /usr/local/lib/python3.10/dist-packages (from tensorflow<2.14,>=2.13.0->tensorflow-text->keras_nlp) (23.5.26)\n",
            "Requirement already satisfied: gast<=0.4.0,>=0.2.1 in /usr/local/lib/python3.10/dist-packages (from tensorflow<2.14,>=2.13.0->tensorflow-text->keras_nlp) (0.4.0)\n",
            "Requirement already satisfied: google-pasta>=0.1.1 in /usr/local/lib/python3.10/dist-packages (from tensorflow<2.14,>=2.13.0->tensorflow-text->keras_nlp) (0.2.0)\n",
            "Requirement already satisfied: grpcio<2.0,>=1.24.3 in /usr/local/lib/python3.10/dist-packages (from tensorflow<2.14,>=2.13.0->tensorflow-text->keras_nlp) (1.57.0)\n",
            "Requirement already satisfied: keras<2.14,>=2.13.1 in /usr/local/lib/python3.10/dist-packages (from tensorflow<2.14,>=2.13.0->tensorflow-text->keras_nlp) (2.13.1)\n",
            "Requirement already satisfied: libclang>=13.0.0 in /usr/local/lib/python3.10/dist-packages (from tensorflow<2.14,>=2.13.0->tensorflow-text->keras_nlp) (16.0.6)\n",
            "Requirement already satisfied: opt-einsum>=2.3.2 in /usr/local/lib/python3.10/dist-packages (from tensorflow<2.14,>=2.13.0->tensorflow-text->keras_nlp) (3.3.0)\n",
            "Requirement already satisfied: protobuf!=4.21.0,!=4.21.1,!=4.21.2,!=4.21.3,!=4.21.4,!=4.21.5,<5.0.0dev,>=3.20.3 in /usr/local/lib/python3.10/dist-packages (from tensorflow<2.14,>=2.13.0->tensorflow-text->keras_nlp) (3.20.3)\n",
            "Requirement already satisfied: setuptools in /usr/local/lib/python3.10/dist-packages (from tensorflow<2.14,>=2.13.0->tensorflow-text->keras_nlp) (67.7.2)\n",
            "Requirement already satisfied: six>=1.12.0 in /usr/local/lib/python3.10/dist-packages (from tensorflow<2.14,>=2.13.0->tensorflow-text->keras_nlp) (1.16.0)\n",
            "Requirement already satisfied: tensorboard<2.14,>=2.13 in /usr/local/lib/python3.10/dist-packages (from tensorflow<2.14,>=2.13.0->tensorflow-text->keras_nlp) (2.13.0)\n",
            "Requirement already satisfied: tensorflow-estimator<2.14,>=2.13.0 in /usr/local/lib/python3.10/dist-packages (from tensorflow<2.14,>=2.13.0->tensorflow-text->keras_nlp) (2.13.0)\n",
            "Requirement already satisfied: termcolor>=1.1.0 in /usr/local/lib/python3.10/dist-packages (from tensorflow<2.14,>=2.13.0->tensorflow-text->keras_nlp) (2.3.0)\n",
            "Requirement already satisfied: typing-extensions<4.6.0,>=3.6.6 in /usr/local/lib/python3.10/dist-packages (from tensorflow<2.14,>=2.13.0->tensorflow-text->keras_nlp) (4.5.0)\n",
            "Requirement already satisfied: wrapt>=1.11.0 in /usr/local/lib/python3.10/dist-packages (from tensorflow<2.14,>=2.13.0->tensorflow-text->keras_nlp) (1.14.1)\n",
            "Requirement already satisfied: tensorflow-io-gcs-filesystem>=0.23.1 in /usr/local/lib/python3.10/dist-packages (from tensorflow<2.14,>=2.13.0->tensorflow-text->keras_nlp) (0.33.0)\n",
            "Requirement already satisfied: wheel<1.0,>=0.23.0 in /usr/local/lib/python3.10/dist-packages (from astunparse>=1.6.0->tensorflow<2.14,>=2.13.0->tensorflow-text->keras_nlp) (0.41.1)\n",
            "Requirement already satisfied: google-auth<3,>=1.6.3 in /usr/local/lib/python3.10/dist-packages (from tensorboard<2.14,>=2.13->tensorflow<2.14,>=2.13.0->tensorflow-text->keras_nlp) (2.17.3)\n",
            "Requirement already satisfied: google-auth-oauthlib<1.1,>=0.5 in /usr/local/lib/python3.10/dist-packages (from tensorboard<2.14,>=2.13->tensorflow<2.14,>=2.13.0->tensorflow-text->keras_nlp) (1.0.0)\n",
            "Requirement already satisfied: markdown>=2.6.8 in /usr/local/lib/python3.10/dist-packages (from tensorboard<2.14,>=2.13->tensorflow<2.14,>=2.13.0->tensorflow-text->keras_nlp) (3.4.4)\n",
            "Requirement already satisfied: requests<3,>=2.21.0 in /usr/local/lib/python3.10/dist-packages (from tensorboard<2.14,>=2.13->tensorflow<2.14,>=2.13.0->tensorflow-text->keras_nlp) (2.31.0)\n",
            "Requirement already satisfied: tensorboard-data-server<0.8.0,>=0.7.0 in /usr/local/lib/python3.10/dist-packages (from tensorboard<2.14,>=2.13->tensorflow<2.14,>=2.13.0->tensorflow-text->keras_nlp) (0.7.1)\n",
            "Requirement already satisfied: werkzeug>=1.0.1 in /usr/local/lib/python3.10/dist-packages (from tensorboard<2.14,>=2.13->tensorflow<2.14,>=2.13.0->tensorflow-text->keras_nlp) (2.3.7)\n",
            "Requirement already satisfied: cachetools<6.0,>=2.0.0 in /usr/local/lib/python3.10/dist-packages (from google-auth<3,>=1.6.3->tensorboard<2.14,>=2.13->tensorflow<2.14,>=2.13.0->tensorflow-text->keras_nlp) (5.3.1)\n",
            "Requirement already satisfied: pyasn1-modules>=0.2.1 in /usr/local/lib/python3.10/dist-packages (from google-auth<3,>=1.6.3->tensorboard<2.14,>=2.13->tensorflow<2.14,>=2.13.0->tensorflow-text->keras_nlp) (0.3.0)\n",
            "Requirement already satisfied: rsa<5,>=3.1.4 in /usr/local/lib/python3.10/dist-packages (from google-auth<3,>=1.6.3->tensorboard<2.14,>=2.13->tensorflow<2.14,>=2.13.0->tensorflow-text->keras_nlp) (4.9)\n",
            "Requirement already satisfied: requests-oauthlib>=0.7.0 in /usr/local/lib/python3.10/dist-packages (from google-auth-oauthlib<1.1,>=0.5->tensorboard<2.14,>=2.13->tensorflow<2.14,>=2.13.0->tensorflow-text->keras_nlp) (1.3.1)\n",
            "Requirement already satisfied: charset-normalizer<4,>=2 in /usr/local/lib/python3.10/dist-packages (from requests<3,>=2.21.0->tensorboard<2.14,>=2.13->tensorflow<2.14,>=2.13.0->tensorflow-text->keras_nlp) (3.2.0)\n",
            "Requirement already satisfied: idna<4,>=2.5 in /usr/local/lib/python3.10/dist-packages (from requests<3,>=2.21.0->tensorboard<2.14,>=2.13->tensorflow<2.14,>=2.13.0->tensorflow-text->keras_nlp) (3.4)\n",
            "Requirement already satisfied: urllib3<3,>=1.21.1 in /usr/local/lib/python3.10/dist-packages (from requests<3,>=2.21.0->tensorboard<2.14,>=2.13->tensorflow<2.14,>=2.13.0->tensorflow-text->keras_nlp) (2.0.4)\n",
            "Requirement already satisfied: certifi>=2017.4.17 in /usr/local/lib/python3.10/dist-packages (from requests<3,>=2.21.0->tensorboard<2.14,>=2.13->tensorflow<2.14,>=2.13.0->tensorflow-text->keras_nlp) (2023.7.22)\n",
            "Requirement already satisfied: MarkupSafe>=2.1.1 in /usr/local/lib/python3.10/dist-packages (from werkzeug>=1.0.1->tensorboard<2.14,>=2.13->tensorflow<2.14,>=2.13.0->tensorflow-text->keras_nlp) (2.1.3)\n",
            "Requirement already satisfied: pyasn1<0.6.0,>=0.4.6 in /usr/local/lib/python3.10/dist-packages (from pyasn1-modules>=0.2.1->google-auth<3,>=1.6.3->tensorboard<2.14,>=2.13->tensorflow<2.14,>=2.13.0->tensorflow-text->keras_nlp) (0.5.0)\n",
            "Requirement already satisfied: oauthlib>=3.0.0 in /usr/local/lib/python3.10/dist-packages (from requests-oauthlib>=0.7.0->google-auth-oauthlib<1.1,>=0.5->tensorboard<2.14,>=2.13->tensorflow<2.14,>=2.13.0->tensorflow-text->keras_nlp) (3.2.2)\n"
          ]
        }
      ],
      "source": [
        "!pip install keras_nlp"
      ]
    },
    {
      "cell_type": "code",
      "source": [
        "import tensorflow as tf\n",
        "from tensorflow import keras\n",
        "import keras_nlp\n",
        "import numpy as np"
      ],
      "metadata": {
        "colab": {
          "base_uri": "https://localhost:8080/"
        },
        "id": "ccqWGh7NRxdp",
        "outputId": "e528f34e-971f-46f7-e37b-1df588dd68e0"
      },
      "execution_count": null,
      "outputs": [
        {
          "output_type": "stream",
          "name": "stdout",
          "text": [
            "Using TensorFlow backend\n"
          ]
        }
      ]
    },
    {
      "cell_type": "code",
      "source": [
        "the_enchanted_april_url = 'https://www.gutenberg.org/cache/epub/16389/pg16389.txt'\n",
        "sherlock_holmes_url = 'https://www.gutenberg.org/files/1661/1661-0.txt'\n",
        "dracula_url = 'https://www.gutenberg.org/cache/epub/345/pg345.txt'\n",
        "tale_of_two_cities_url = 'https://www.gutenberg.org/files/98/98-0.txt'\n",
        "\n",
        "paths = [the_enchanted_april_url, sherlock_holmes_url, dracula_url, tale_of_two_cities_url]\n",
        "names = ['The Enchanted April', 'The Adventured of Sherlock Holmes', 'Dracula', 'The Tale of Two Cities']\n",
        "texts = ''\n",
        "for index, path in enumerate(paths):\n",
        "    filepath = keras.utils.get_file(f'{names[index]}.txt', origin=path)\n",
        "    text = ''\n",
        "    with open(filepath, encoding='utf-8') as f:\n",
        "        text = f.read()\n",
        "        # First 50 lines are the Gutenberg intro and preface\n",
        "        # Skipping first 10k characters for each book should be approximately\n",
        "        # removing the intros and prefaces.\n",
        "        texts += text[10000:]"
      ],
      "metadata": {
        "id": "CHVgL3FMRxlC"
      },
      "execution_count": null,
      "outputs": []
    },
    {
      "cell_type": "code",
      "source": [
        "texts[15000:15500]"
      ],
      "metadata": {
        "colab": {
          "base_uri": "https://localhost:8080/",
          "height": 70
        },
        "id": "vcfYdb5rTUU6",
        "outputId": "abb89401-08b8-4792-fc28-d56cc1a7a919"
      },
      "execution_count": null,
      "outputs": [
        {
          "output_type": "execute_result",
          "data": {
            "text/plain": [
              "'eager, shy face, and her thin shoulders, and the look of childish\\nlonging in her eyes for something that she was sure was going to make\\nher happy. No; such things didn’t make people happy, such fleeting\\nthings. Mrs. Arbuthnot had learned in her long life with Frederick—he\\nwas her husband, and she had married him at twenty and was now\\nthirty-three—where alone true joys are to be found. They are to be\\nfound, she now knew, only in daily, in hourly, living for others;\\nthey are to be found only—hadn’'"
            ],
            "application/vnd.google.colaboratory.intrinsic+json": {
              "type": "string"
            }
          },
          "metadata": {},
          "execution_count": 7
        }
      ]
    },
    {
      "cell_type": "code",
      "source": [
        "import re\n",
        "import matplotlib.pyplot as plt\n",
        "import seaborn as sns\n",
        "from collections import Counter"
      ],
      "metadata": {
        "id": "Ck2Voxx3Wi9O"
      },
      "execution_count": null,
      "outputs": []
    },
    {
      "cell_type": "code",
      "source": [
        "# Split the combined texts into words\n",
        "words = re.findall(r'\\b\\w+\\b', texts.lower())  # Tokenize by words and convert to lowercase\n",
        "\n",
        "# Data Cleaning: Remove stopwords and punctuation\n",
        "stopwords = set(['the', 'and', 'to', 'of', 'a', 'in', 'that', 'it', 'i', 'was', 'as', 'with', 'for', 'but', 'at', 'on', 'by', 'is'])\n",
        "filtered_words = [word for word in words if word not in stopwords and word.isalnum()]"
      ],
      "metadata": {
        "id": "xaIPkJ-wWi_6"
      },
      "execution_count": null,
      "outputs": []
    },
    {
      "cell_type": "code",
      "source": [
        "# Data Visualization\n",
        "word_counter = Counter(filtered_words)\n",
        "common_words = word_counter.most_common(20)  # Get the most common words and their counts\n",
        "\n",
        "# Create a bar plot of the most common words\n",
        "plt.figure(figsize=(12, 6))\n",
        "sns.barplot(x=[word[1] for word in common_words], y=[word[0] for word in common_words])\n",
        "plt.title('Most Common Words in Combined Texts')\n",
        "plt.xlabel('Word Count')\n",
        "plt.ylabel('Word')\n",
        "plt.show()"
      ],
      "metadata": {
        "colab": {
          "base_uri": "https://localhost:8080/",
          "height": 564
        },
        "id": "N_HGddVwWjCJ",
        "outputId": "00350164-ba45-4adc-e11c-dea23e14b3e7"
      },
      "execution_count": null,
      "outputs": [
        {
          "output_type": "display_data",
          "data": {
            "text/plain": [
              "<Figure size 1200x600 with 1 Axes>"
            ],
            "image/png": "[encoded data removed]"
          },
          "metadata": {}
        }
      ]
    },
    {
      "cell_type": "code",
      "source": [
        "text_list = texts.split('.')\n",
        "len(text_list)"
      ],
      "metadata": {
        "colab": {
          "base_uri": "https://localhost:8080/"
        },
        "id": "PwnihIftTqUQ",
        "outputId": "82f35e0e-ac9b-4535-bab5-49b2024daa1c"
      },
      "execution_count": null,
      "outputs": [
        {
          "output_type": "execute_result",
          "data": {
            "text/plain": [
              "27034"
            ]
          },
          "metadata": {},
          "execution_count": 11
        }
      ]
    },
    {
      "cell_type": "code",
      "source": [
        "text_list = list(filter(None, text_list))\n",
        "\n",
        "import random\n",
        "random.shuffle(text_list)"
      ],
      "metadata": {
        "id": "MvLJNNOXTxn_"
      },
      "execution_count": null,
      "outputs": []
    },
    {
      "cell_type": "code",
      "source": [
        "length = len(text_list)\n",
        "text_train = text_list[:int(0.7*length)]\n",
        "text_test = text_list[int(0.7*length):int(0.85*length)]\n",
        "text_valid = text_list[int(0.85*length):]"
      ],
      "metadata": {
        "id": "jda7In-oTzxu"
      },
      "execution_count": null,
      "outputs": []
    },
    {
      "cell_type": "code",
      "source": [
        "from tensorflow.keras.layers import TextVectorization\n",
        "\n",
        "def custom_standardization(input_string):\n",
        "    sentence = tf.strings.lower(input_string)\n",
        "    sentence = tf.strings.regex_replace(sentence, \"\\n\", \" \")\n",
        "    return sentence\n",
        "\n",
        "maxlen = 50"
      ],
      "metadata": {
        "id": "NtLVt20nT5_f"
      },
      "execution_count": null,
      "outputs": []
    },
    {
      "cell_type": "code",
      "source": [
        "vectorize_layer = TextVectorization(\n",
        "    standardize = custom_standardization,\n",
        "    output_mode=\"int\",\n",
        "    output_sequence_length=maxlen + 1,\n",
        ")\n",
        "\n",
        "vectorize_layer.adapt(text_list)\n",
        "vocab = vectorize_layer.get_vocabulary()"
      ],
      "metadata": {
        "id": "N2PVTaW2UA4s"
      },
      "execution_count": null,
      "outputs": []
    },
    {
      "cell_type": "code",
      "source": [
        "vocab_size = len(vocab)\n",
        "vocab_size"
      ],
      "metadata": {
        "colab": {
          "base_uri": "https://localhost:8080/"
        },
        "id": "FeuV-9e-UDo-",
        "outputId": "d1ff0fc7-29ba-4dc1-f7a8-dfa0dc2c14b6"
      },
      "execution_count": null,
      "outputs": [
        {
          "output_type": "execute_result",
          "data": {
            "text/plain": [
              "33737"
            ]
          },
          "metadata": {},
          "execution_count": 16
        }
      ]
    },
    {
      "cell_type": "code",
      "source": [
        "index_lookup = dict(zip(range(len(vocab)), vocab))\n",
        "index_lookup[9]"
      ],
      "metadata": {
        "colab": {
          "base_uri": "https://localhost:8080/",
          "height": 36
        },
        "id": "FVbMRgy6UHsK",
        "outputId": "acf74fcb-5840-4fb2-e24d-26060b96f467"
      },
      "execution_count": null,
      "outputs": [
        {
          "output_type": "execute_result",
          "data": {
            "text/plain": [
              "'that'"
            ],
            "application/vnd.google.colaboratory.intrinsic+json": {
              "type": "string"
            }
          },
          "metadata": {},
          "execution_count": 17
        }
      ]
    },
    {
      "cell_type": "code",
      "source": [
        "batch_size = 64\n",
        "\n",
        "train_dataset = tf.data.Dataset.from_tensor_slices(text_train)\n",
        "train_dataset = train_dataset.shuffle(buffer_size=256)\n",
        "train_dataset = train_dataset.batch(batch_size)\n",
        "\n",
        "test_dataset = tf.data.Dataset.from_tensor_slices(text_test)\n",
        "test_dataset = test_dataset.shuffle(buffer_size=256)\n",
        "test_dataset = test_dataset.batch(batch_size)\n",
        "\n",
        "valid_dataset = tf.data.Dataset.from_tensor_slices(text_valid)\n",
        "valid_dataset = valid_dataset.shuffle(buffer_size=256)\n",
        "valid_dataset = valid_dataset.batch(batch_size)"
      ],
      "metadata": {
        "id": "4NU9Kx22UIGk"
      },
      "execution_count": null,
      "outputs": []
    },
    {
      "cell_type": "code",
      "source": [
        "def preprocess_text(text):\n",
        "    text = tf.expand_dims(text, -1)\n",
        "    tokenized_sentences = vectorize_layer(text)\n",
        "    x = tokenized_sentences[:, :-1]\n",
        "    y = tokenized_sentences[:, 1:]\n",
        "    return x, y\n",
        "\n",
        "\n",
        "train_dataset = train_dataset.map(preprocess_text)\n",
        "train_dataset = train_dataset.prefetch(tf.data.AUTOTUNE)\n",
        "\n",
        "test_dataset = test_dataset.map(preprocess_text)\n",
        "test_dataset = test_dataset.prefetch(tf.data.AUTOTUNE)\n",
        "\n",
        "valid_dataset = valid_dataset.map(preprocess_text)\n",
        "valid_dataset = valid_dataset.prefetch(tf.data.AUTOTUNE)"
      ],
      "metadata": {
        "id": "pOjj0GhJUPCe"
      },
      "execution_count": null,
      "outputs": []
    },
    {
      "cell_type": "code",
      "source": [
        "for entry in train_dataset.take(1):\n",
        "    print(entry)"
      ],
      "metadata": {
        "colab": {
          "base_uri": "https://localhost:8080/"
        },
        "id": "Opubs2_SURdV",
        "outputId": "e6b73363-0127-4739-81e6-df15b31c8b97"
      },
      "execution_count": null,
      "outputs": [
        {
          "output_type": "stream",
          "name": "stdout",
          "text": [
            "(<tf.Tensor: shape=(64, 50), dtype=int64, numpy=\n",
            "array([[  25, 1953,   17, ...,    0,    0,    0],\n",
            "       [   0,    0,    0, ...,    0,    0,    0],\n",
            "       [ 566,  593,   24, ...,    0,    0,    0],\n",
            "       ...,\n",
            "       [  31,  588,    4, ...,    0,    0,    0],\n",
            "       [1051, 1108,   84, ...,    0,    0,    0],\n",
            "       [   7,   63,   23, ...,    0,    0,    0]])>, <tf.Tensor: shape=(64, 50), dtype=int64, numpy=\n",
            "array([[1953,   17, 3458, ...,    0,    0,    0],\n",
            "       [   0,    0,    0, ...,    0,    0,    0],\n",
            "       [ 593,   24,  343, ...,    0,    0,    0],\n",
            "       ...,\n",
            "       [ 588,    4,  315, ...,    0,    0,    0],\n",
            "       [1108,   84,   13, ...,    0,    0,    0],\n",
            "       [  63,   23,  112, ...,    0,    0,    0]])>)\n"
          ]
        }
      ]
    },
    {
      "cell_type": "code",
      "source": [
        "embed_dim = 128\n",
        "num_heads = 4\n",
        "\n",
        "def create_model():\n",
        "    inputs = keras.layers.Input(shape=(maxlen,), dtype=tf.int32)\n",
        "    embedding_layer = keras_nlp.layers.TokenAndPositionEmbedding(vocab_size, maxlen, embed_dim)(inputs)\n",
        "    decoder = keras_nlp.layers.TransformerDecoder(intermediate_dim=embed_dim,\n",
        "                                                            num_heads=num_heads,\n",
        "                                                            dropout=0.5)(embedding_layer)\n",
        "\n",
        "    outputs = keras.layers.Dense(vocab_size, activation='softmax')(decoder)\n",
        "\n",
        "    model = keras.Model(inputs=inputs, outputs=outputs)\n",
        "\n",
        "    model.compile(\n",
        "        optimizer=\"adam\",\n",
        "        loss='sparse_categorical_crossentropy',\n",
        "        metrics=[keras_nlp.metrics.Perplexity(), 'accuracy']\n",
        "    )\n",
        "    return model\n",
        "\n",
        "model = create_model()\n",
        "model.summary()"
      ],
      "metadata": {
        "colab": {
          "base_uri": "https://localhost:8080/"
        },
        "id": "a5H0z0M9UTgV",
        "outputId": "18f30aa2-f744-4b50-d02d-0edf95640a8a"
      },
      "execution_count": null,
      "outputs": [
        {
          "output_type": "stream",
          "name": "stdout",
          "text": [
            "Model: \"model\"\n",
            "_________________________________________________________________\n",
            " Layer (type)                Output Shape              Param #   \n",
            "=================================================================\n",
            " input_1 (InputLayer)        [(None, 50)]              0         \n",
            "                                                                 \n",
            " token_and_position_embeddi  (None, 50, 128)           4324736   \n",
            " ng (TokenAndPositionEmbedd                                      \n",
            " ing)                                                            \n",
            "                                                                 \n",
            " transformer_decoder (Trans  (None, 50, 128)           99584     \n",
            " formerDecoder)                                                  \n",
            "                                                                 \n",
            " dense_2 (Dense)             (None, 50, 33737)         4352073   \n",
            "                                                                 \n",
            "=================================================================\n",
            "Total params: 8776393 (33.48 MB)\n",
            "Trainable params: 8776393 (33.48 MB)\n",
            "Non-trainable params: 0 (0.00 Byte)\n",
            "_________________________________________________________________\n"
          ]
        }
      ]
    },
    {
      "cell_type": "code",
      "source": [
        "class TextSampler(keras.callbacks.Callback):\n",
        "    def __init__(self, start_prompt, max_tokens):\n",
        "        self.start_prompt = start_prompt\n",
        "        self.max_tokens = max_tokens\n",
        "\n",
        "    # Helper method to choose a word from the top K probable words with respect to their probabilities\n",
        "    # in a sequence\n",
        "    def sample_token(self, logits):\n",
        "        logits, indices = tf.math.top_k(logits, k=5, sorted=True)\n",
        "        indices = np.asarray(indices).astype(\"int32\")\n",
        "        preds = keras.activations.softmax(tf.expand_dims(logits, 0))[0]\n",
        "        preds = np.asarray(preds).astype(\"float32\")\n",
        "        return np.random.choice(indices, p=preds)\n",
        "\n",
        "    def on_epoch_end(self, epoch, logs=None):\n",
        "        decoded_sample = self.start_prompt\n",
        "\n",
        "        for i in range(self.max_tokens-1):\n",
        "            tokenized_prompt = vectorize_layer([decoded_sample])[:, :-1]\n",
        "            predictions = self.model.predict([tokenized_prompt], verbose=0)\n",
        "            # To find the index of the next word in the prediction array.\n",
        "            # The tokenized prompt is already shorter than the original decoded sample\n",
        "            # by one, len(decoded_sample.split()) is two words ahead - so we remove 1 to get\n",
        "            # the next word in the sequence\n",
        "            sample_index = len(decoded_sample.strip().split())-1\n",
        "\n",
        "            sampled_token = self.sample_token(predictions[0][sample_index])\n",
        "            sampled_token = index_lookup[sampled_token]\n",
        "            decoded_sample += \" \" + sampled_token\n",
        "\n",
        "        print(f\"\\nSample text:\\n{decoded_sample}...\\n\")\n",
        "\n",
        "# First 5 words of a random sentence to be used as a seed\n",
        "random_sentence = ' '.join(random.choice(text_valid).replace('\\n', ' ').split(' ')[:4])\n",
        "sampler = TextSampler(random_sentence, 30)\n",
        "reducelr = keras.callbacks.ReduceLROnPlateau(patience=10, monitor='val_loss')"
      ],
      "metadata": {
        "id": "KOemWfOLUcnp"
      },
      "execution_count": null,
      "outputs": []
    },
    {
      "cell_type": "code",
      "source": [
        "model = create_model()\n",
        "history = model.fit(train_dataset, validation_data=valid_dataset, epochs=10, callbacks=[sampler, reducelr])"
      ],
      "metadata": {
        "colab": {
          "base_uri": "https://localhost:8080/"
        },
        "id": "9fWBXVSQUfeO",
        "outputId": "6d9480b2-b9bd-45be-8c9a-dfd44bf3b0b2"
      },
      "execution_count": null,
      "outputs": [
        {
          "output_type": "stream",
          "name": "stdout",
          "text": [
            "Epoch 1/10\n",
            "294/294 [==============================] - ETA: 0s - loss: 3.1558 - perplexity: 23.4719 - accuracy: 0.6669\n",
            "Sample text:\n",
            " And then the same and i have a man  of her to the little man in a own little of his man  was in the little of the own of...\n",
            "\n",
            "294/294 [==============================] - 2172s 7s/step - loss: 3.1558 - perplexity: 23.4719 - accuracy: 0.6669 - val_loss: 2.1821 - val_perplexity: 8.8647 - val_accuracy: 0.6937 - lr: 0.0010\n",
            "Epoch 2/10\n",
            "294/294 [==============================] - ETA: 0s - loss: 2.0527 - perplexity: 7.7889 - accuracy: 0.6988\n",
            "Sample text:\n",
            " And then the man who is no other way in her face in the door  in the other of his eyes and i could not know it is to me in...\n",
            "\n",
            "294/294 [==============================] - 2091s 7s/step - loss: 2.0527 - perplexity: 7.7889 - accuracy: 0.6988 - val_loss: 2.0683 - val_perplexity: 7.9110 - val_accuracy: 0.7023 - lr: 0.0010\n",
            "Epoch 3/10\n",
            "294/294 [==============================] - ETA: 0s - loss: 1.8513 - perplexity: 6.3680 - accuracy: 0.7106\n",
            "Sample text:\n",
            " And then the two hours to his wife  had been in a long ago the time in his own eyes   and had a very little more to go on...\n",
            "\n",
            "294/294 [==============================] - 2134s 7s/step - loss: 1.8513 - perplexity: 6.3680 - accuracy: 0.7106 - val_loss: 2.0534 - val_perplexity: 7.7946 - val_accuracy: 0.7034 - lr: 0.0010\n",
            "Epoch 4/10\n",
            "294/294 [==============================] - ETA: 0s - loss: 1.7025 - perplexity: 5.4875 - accuracy: 0.7177\n",
            "Sample text:\n",
            " And then the same time to the same    as he was so that he was not been able to have had been with a long ago   to...\n",
            "\n",
            "294/294 [==============================] - 2050s 7s/step - loss: 1.7025 - perplexity: 5.4875 - accuracy: 0.7177 - val_loss: 2.0696 - val_perplexity: 7.9219 - val_accuracy: 0.7038 - lr: 0.0010\n",
            "Epoch 5/10\n",
            "294/294 [==============================] - ETA: 0s - loss: 1.5860 - perplexity: 4.8842 - accuracy: 0.7231\n",
            "Sample text:\n",
            " And then the count would have done what i am not have been in my dear sake in your meddlesome aboon a man of his head of my mind was so ...\n",
            "\n",
            "294/294 [==============================] - 2032s 7s/step - loss: 1.5860 - perplexity: 4.8842 - accuracy: 0.7231 - val_loss: 2.0994 - val_perplexity: 8.1609 - val_accuracy: 0.7035 - lr: 0.0010\n",
            "Epoch 6/10\n",
            "294/294 [==============================] - ETA: 0s - loss: 1.4947 - perplexity: 4.4581 - accuracy: 0.7267\n",
            "Sample text:\n",
            " And then the same time in my friend of the room and charitable that he was the fatalities that he would do not be the same moment  she could not know...\n",
            "\n",
            "294/294 [==============================] - 2073s 7s/step - loss: 1.4947 - perplexity: 4.4581 - accuracy: 0.7267 - val_loss: 2.1415 - val_perplexity: 8.5122 - val_accuracy: 0.7040 - lr: 0.0010\n",
            "Epoch 7/10\n",
            "294/294 [==============================] - ETA: 0s - loss: 1.4232 - perplexity: 4.1505 - accuracy: 0.7307\n",
            "Sample text:\n",
            " And then the same time, the count had been a man of my dear boy to his wife in the old man with a man  with his own sitting-room, and his...\n",
            "\n",
            "294/294 [==============================] - 2089s 7s/step - loss: 1.4232 - perplexity: 4.1505 - accuracy: 0.7307 - val_loss: 2.1864 - val_perplexity: 8.9028 - val_accuracy: 0.7030 - lr: 0.0010\n",
            "Epoch 8/10\n",
            "294/294 [==============================] - ETA: 0s - loss: 1.3688 - perplexity: 3.9308 - accuracy: 0.7344\n",
            "Sample text:\n",
            " And then the very well for the house was so clever!--in the count  lying in her face that the same time  that he was  in his face of a...\n",
            "\n",
            "294/294 [==============================] - 2094s 7s/step - loss: 1.3688 - perplexity: 3.9308 - accuracy: 0.7344 - val_loss: 2.2301 - val_perplexity: 9.3007 - val_accuracy: 0.7025 - lr: 0.0010\n",
            "Epoch 9/10\n",
            "294/294 [==============================] - ETA: 0s - loss: 1.3257 - perplexity: 3.7647 - accuracy: 0.7380\n",
            "Sample text:\n",
            " And then the keeper in the other respects  this is in this morning i had been a man in a wary hour the very long as a little counters, i have...\n",
            "\n",
            "294/294 [==============================] - 2034s 7s/step - loss: 1.3257 - perplexity: 3.7647 - accuracy: 0.7380 - val_loss: 2.2713 - val_perplexity: 9.6917 - val_accuracy: 0.7024 - lr: 0.0010\n",
            "Epoch 10/10\n",
            "294/294 [==============================] - ETA: 0s - loss: 1.2897 - perplexity: 3.6316 - accuracy: 0.7416\n",
            "Sample text:\n",
            " And then the wisest thousand demons of the count may come   and his hand in a minute and hemmed and i knew it would be active-minded in the room for...\n",
            "\n",
            "294/294 [==============================] - 2033s 7s/step - loss: 1.2897 - perplexity: 3.6316 - accuracy: 0.7416 - val_loss: 2.3096 - val_perplexity: 10.0701 - val_accuracy: 0.7018 - lr: 0.0010\n"
          ]
        }
      ]
    },
    {
      "cell_type": "code",
      "source": [
        "import matplotlib.pyplot as plt\n",
        "\n",
        "# Assuming you have already executed the code to train the model and have 'history' available\n",
        "# Plot training and validation accuracy\n",
        "plt.figure(figsize=(12, 6))\n",
        "plt.plot(history.history['accuracy'], label='Training Accuracy')\n",
        "plt.plot(history.history['val_accuracy'], label='Validation Accuracy')\n",
        "plt.title('Training and Validation Accuracy')\n",
        "plt.xlabel('Epoch')\n",
        "plt.ylabel('Accuracy')\n",
        "plt.legend()\n",
        "plt.show()"
      ],
      "metadata": {
        "colab": {
          "base_uri": "https://localhost:8080/",
          "height": 564
        },
        "id": "8xuGGr5yYQEu",
        "outputId": "01e5fe0e-202c-488c-e6e1-e4be3e51debc"
      },
      "execution_count": null,
      "outputs": [
        {
          "output_type": "display_data",
          "data": {
            "text/plain": [
              "<Figure size 1200x600 with 1 Axes>"
            ],
            "image/png": "[encoded data removed]"
          },
          "metadata": {}
        }
      ]
    },
    {
      "cell_type": "code",
      "source": [
        "# Plot training and validation loss\n",
        "plt.figure(figsize=(12, 6))\n",
        "plt.plot(history.history['loss'], label='Training Loss')\n",
        "plt.plot(history.history['val_loss'], label='Validation Loss')\n",
        "plt.title('Training and Validation Loss')\n",
        "plt.xlabel('Epoch')\n",
        "plt.ylabel('Loss')\n",
        "plt.legend()\n",
        "plt.show()"
      ],
      "metadata": {
        "colab": {
          "base_uri": "https://localhost:8080/",
          "height": 564
        },
        "id": "wMthmXJcYQHB",
        "outputId": "17caadc2-071b-496d-8ace-41fb313902fc"
      },
      "execution_count": null,
      "outputs": [
        {
          "output_type": "display_data",
          "data": {
            "text/plain": [
              "<Figure size 1200x600 with 1 Axes>"
            ],
            "image/png": "[encoded data removed]"
          },
          "metadata": {}
        }
      ]
    },
    {
      "cell_type": "code",
      "source": [
        "def sample_token(logits):\n",
        "        logits, indices = tf.math.top_k(logits, k=5, sorted=True)\n",
        "        indices = np.asarray(indices).astype(\"int32\")\n",
        "        preds = keras.activations.softmax(tf.expand_dims(logits, 0))[0]\n",
        "        preds = np.asarray(preds).astype(\"float32\")\n",
        "        return np.random.choice(indices, p=preds)\n"
      ],
      "metadata": {
        "id": "MHsDGY-eUiHl"
      },
      "execution_count": null,
      "outputs": []
    },
    {
      "cell_type": "code",
      "source": [
        "def generate_text(prompt, response_length=20):\n",
        "    decoded_sample = prompt\n",
        "    for i in range(response_length-1):\n",
        "        tokenized_prompt = vectorize_layer([decoded_sample])[:, :-1]\n",
        "        predictions = model.predict([tokenized_prompt], verbose=0)\n",
        "        sample_index = len(decoded_sample.strip().split())-1\n",
        "\n",
        "        sampled_token = sample_token(predictions[0][sample_index])\n",
        "        sampled_token = index_lookup[sampled_token]\n",
        "        decoded_sample += \" \" + sampled_token\n",
        "    return decoded_sample"
      ],
      "metadata": {
        "id": "x6jmiMnvWBBI"
      },
      "execution_count": null,
      "outputs": []
    },
    {
      "cell_type": "code",
      "source": [
        "generate_text('the truth ultimately is')"
      ],
      "metadata": {
        "colab": {
          "base_uri": "https://localhost:8080/",
          "height": 36
        },
        "id": "wAkPloEjWFjJ",
        "outputId": "d32c3610-bd4c-4423-bbd3-ec568b427cdc"
      },
      "execution_count": null,
      "outputs": [
        {
          "output_type": "execute_result",
          "data": {
            "text/plain": [
              "'the truth ultimately is the converse is middle-aged, that was intellectual?” for you_, he said holmes  as i had been accorded i'"
            ],
            "application/vnd.google.colaboratory.intrinsic+json": {
              "type": "string"
            }
          },
          "metadata": {},
          "execution_count": 28
        }
      ]
    },
    {
      "cell_type": "code",
      "source": [
        "generate_text('the truth ultimately is')"
      ],
      "metadata": {
        "colab": {
          "base_uri": "https://localhost:8080/",
          "height": 36
        },
        "id": "gTprwqYGWGcX",
        "outputId": "5713337a-cec9-42fc-fd03-eda811e96ed7"
      },
      "execution_count": null,
      "outputs": [
        {
          "output_type": "execute_result",
          "data": {
            "text/plain": [
              "'the truth ultimately is in a woman, blurted out:-- “i know how i am so i can see that i do not have'"
            ],
            "application/vnd.google.colaboratory.intrinsic+json": {
              "type": "string"
            }
          },
          "metadata": {},
          "execution_count": 29
        }
      ]
    },
    {
      "cell_type": "code",
      "source": [
        "def chatbot_interaction():\n",
        "    print(\"Chatbot: Hi there! I'm your chatbot. Type 'exit' to end the conversation.\")\n",
        "\n",
        "    while True:\n",
        "        user_input = input(\"You: \")\n",
        "        if user_input.lower() == 'exit':\n",
        "            print(\"Chatbot: Goodbye!\")\n",
        "            break\n",
        "\n",
        "        bot_response = generate_text(user_input)\n",
        "        print(\"Chatbot:\", bot_response)\n",
        "\n",
        "if __name__ == \"__main__\":\n",
        "    chatbot_interaction()"
      ],
      "metadata": {
        "colab": {
          "base_uri": "https://localhost:8080/"
        },
        "id": "wEiHv1esoVEd",
        "outputId": "8cb7305e-aab3-4a8f-cacb-efb137b89568"
      },
      "execution_count": null,
      "outputs": [
        {
          "output_type": "stream",
          "name": "stdout",
          "text": [
            "Chatbot: Hi there! I'm your chatbot. Type 'exit' to end the conversation.\n",
            "You: waterfall\n",
            "Chatbot: waterfall a little income,” i represent that the village is the count dracula, that i choose the other beer, no\n",
            "You: Beneath the starlit sky's embrace\n",
            "Chatbot: Beneath the starlit sky's embrace it, rose? see how many months? nine, black downpour, the devil of the place--of blood--before a few words to\n",
            "You: A symphony of words, a poet's flight\n",
            "Chatbot: A symphony of words, a poet's flight of gripping fingers were dilated and sat down on a few seconds of white flowers, and with a four-wheeler,\n",
            "You: Bloodstained secrets and whispered lies\n",
            "Chatbot: Bloodstained secrets and whispered lies on his neighbour, and, having authors not know what it will be a word that it will do it\n",
            "You: In the courtroom of justice, a trial of souls\n",
            "Chatbot: In the courtroom of justice, a trial of souls and i could see nothing; i have written my life and i have to do with a man to\n",
            "You: n the shadows of the past, a reckoning begins\n",
            "Chatbot: n the shadows of the past, a reckoning begins  you may have written   confirmation of your real, real man, i can see paragraph amplifying the\n",
            "You: A single gunshot echoed through the night\n",
            "Chatbot: A single gunshot echoed through the night and we all day of the room for i know  that you  have a little distance, from\n",
            "You: A single gunshot echoed through the night\n",
            "Chatbot: A single gunshot echoed through the night before   we are unfettered, and all our duty in a man  who has never heard of\n",
            "You: exit\n",
            "Chatbot: Goodbye!\n"
          ]
        }
      ]
    },
    {
      "cell_type": "code",
      "source": [],
      "metadata": {
        "id": "UAkhQMDnoqBm"
      },
      "execution_count": null,
      "outputs": []
    }
  ]
}